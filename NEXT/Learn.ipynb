{
 "cells": [
  {
   "cell_type": "code",
   "execution_count": null,
   "metadata": {},
   "outputs": [],
   "source": []
  },
  {
   "cell_type": "code",
   "execution_count": 7,
   "metadata": {},
   "outputs": [
    {
     "name": "stdout",
     "output_type": "stream",
     "text": [
      "3\n"
     ]
    }
   ],
   "source": [
    "test = 2 \n",
    "\n",
    "def number_changer():\n",
    "    global test \n",
    "    test=3\n",
    "\n",
    "number_changer()\n",
    "print(test)"
   ]
  },
  {
   "cell_type": "code",
   "execution_count": 1,
   "metadata": {},
   "outputs": [
    {
     "name": "stdout",
     "output_type": "stream",
     "text": [
      "     Name  Age Occupation\n",
      "0   Arman   25   Engineer\n",
      "1    Sara   30    Teacher\n",
      "2     Ali   22    Student\n",
      "3  Naznin   28     Doctor \n",
      "\n",
      "Arman\n",
      "Teacher\n"
     ]
    }
   ],
   "source": [
    "import pandas as pd\n",
    "\n",
    "# Assume df is a DataFrame with a specific column col_name\n",
    "# Let's say we want to retrieve the value at row 2 and column \"نام\"\n",
    "\n",
    "# Sample DataFrame creation\n",
    "data = {'Name': ['Arman', 'Sara', 'Ali', 'Naznin'],\n",
    "        'Age': [25, 30, 22, 28],\n",
    "        'Occupation': ['Engineer', 'Teacher', 'Student', 'Doctor']}\n",
    "\n",
    "\n",
    "df = pd.DataFrame(data)\n",
    "\n",
    "# Retrieve the value at row 2 and column \"نام\"\n",
    "cell_value = df.at[0, 'Name']\n",
    "print(df,\"\\n\")\n",
    "# Display the retrieved value\n",
    "print(cell_value)\n",
    "# Retrieve the value at row 2 and column 3\n",
    "cell_value = df.iloc[1, 2]\n",
    "print(cell_value)"
   ]
  },
  {
   "cell_type": "code",
   "execution_count": 4,
   "metadata": {},
   "outputs": [
    {
     "data": {
      "text/html": [
       "<div>\n",
       "<style scoped>\n",
       "    .dataframe tbody tr th:only-of-type {\n",
       "        vertical-align: middle;\n",
       "    }\n",
       "\n",
       "    .dataframe tbody tr th {\n",
       "        vertical-align: top;\n",
       "    }\n",
       "\n",
       "    .dataframe thead th {\n",
       "        text-align: right;\n",
       "    }\n",
       "</style>\n",
       "<table border=\"1\" class=\"dataframe\">\n",
       "  <thead>\n",
       "    <tr style=\"text-align: right;\">\n",
       "      <th></th>\n",
       "      <th>Name</th>\n",
       "      <th>Age</th>\n",
       "      <th>Occupation</th>\n",
       "    </tr>\n",
       "  </thead>\n",
       "  <tbody>\n",
       "    <tr>\n",
       "      <th>1</th>\n",
       "      <td>Sara</td>\n",
       "      <td>30</td>\n",
       "      <td>Teacher</td>\n",
       "    </tr>\n",
       "    <tr>\n",
       "      <th>3</th>\n",
       "      <td>Naznin</td>\n",
       "      <td>28</td>\n",
       "      <td>Doctor</td>\n",
       "    </tr>\n",
       "  </tbody>\n",
       "</table>\n",
       "</div>"
      ],
      "text/plain": [
       "     Name  Age Occupation\n",
       "1    Sara   30    Teacher\n",
       "3  Naznin   28     Doctor"
      ]
     },
     "execution_count": 4,
     "metadata": {},
     "output_type": "execute_result"
    }
   ],
   "source": [
    "\n",
    "# df.set_index(\"Name\",inplace=True)\n",
    "# df.reset_index(inplace=True)\n",
    "# df.columns\n",
    "df.index\n",
    "\n",
    "# df.iloc[1]\n",
    "df.iloc[1].name  #display index a sample\n",
    "df.iloc[1].Age   \n",
    "df.iloc[1].Name  #display a value of columns a sample like df.iloc[1].Age   \n",
    "# df.loc['Sara']\n",
    "# df.index.name\n",
    "# df[df[\"Age\"]>25]"
   ]
  },
  {
   "cell_type": "code",
   "execution_count": null,
   "metadata": {},
   "outputs": [],
   "source": [
    "import pandas as pd\n",
    "import numpy as np\n",
    "import matplotlib.pyplot as plt\n",
    "from matplotlib.animation import FuncAnimation\n",
    "import time\n",
    "\n",
    "def generate_sample_data():\n",
    "    # Simulate random walk for demonstration\n",
    "    return pd.DataFrame({\n",
    "        'Datetime': pd.date_range(start=pd.Timestamp.now(), periods=1, freq='1T'),\n",
    "        'Close': np.cumsum(np.random.randn(1))\n",
    "    })\n",
    "\n",
    "def plot_chart(ax):\n",
    "    global data\n",
    "    ax.clear()\n",
    "    ax.plot(data['Datetime'], data['Close'], label='Close Price', color='blue')\n",
    "    ax.set_title('Sample Data with Animation')\n",
    "    ax.legend()\n",
    "\n",
    "def animate(frame, ax):\n",
    "    global data\n",
    "\n",
    "    print(\"Updating...\")\n",
    "\n",
    "    # Generate new sample data every minute\n",
    "    new_data = generate_sample_data()\n",
    "\n",
    "    # Append new data to the existing DataFrame\n",
    "\n",
    "    # data = pd.concat([data, new_data], ignore_index=True)\n",
    "    data = pd.concat([data, new_data], ignore_index=True)\n",
    "\n",
    "    print(data)\n",
    "\n",
    "    time.sleep(3)\n",
    "    # Update the plot\n",
    "    plot_chart(ax)\n",
    "\n",
    "if __name__ == '__main__':\n",
    "    data = pd.DataFrame()  \n",
    "\n",
    "    fig, ax = plt.subplots(figsize=(10, 6))\n",
    "\n",
    "    # Create animation\n",
    "    ani = FuncAnimation(fig, animate, fargs=(ax,), interval=1000)   \n",
    "\n",
    "    plt.show()\n"
   ]
  }
 ],
 "metadata": {
  "kernelspec": {
   "display_name": "Python 3",
   "language": "python",
   "name": "python3"
  },
  "language_info": {
   "codemirror_mode": {
    "name": "ipython",
    "version": 3
   },
   "file_extension": ".py",
   "mimetype": "text/x-python",
   "name": "python",
   "nbconvert_exporter": "python",
   "pygments_lexer": "ipython3",
   "version": "3.11.4"
  }
 },
 "nbformat": 4,
 "nbformat_minor": 2
}
