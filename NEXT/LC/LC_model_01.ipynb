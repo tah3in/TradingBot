{
 "cells": [
  {
   "cell_type": "code",
   "execution_count": 1,
   "id": "5a73c448",
   "metadata": {},
   "outputs": [],
   "source": [
    "import numpy as np\n",
    "import pandas as pd\n",
    "import matplotlib.pyplot as plt\n",
    "import seaborn as sns\n",
    "from datetime import date\n",
    "from jugaad_data.nse import stock_df\n",
    "from sklearn.preprocessing import MinMaxScaler"
   ]
  },
  {
   "cell_type": "code",
   "execution_count": 2,
   "id": "f0739c17",
   "metadata": {},
   "outputs": [],
   "source": [
    "df = stock_df(symbol=\"SBIN\", from_date=date(2015,1,1),to_date=date(2020,1,30), series=\"EQ\")"
   ]
  },
  {
   "cell_type": "code",
   "execution_count": 3,
   "id": "fbb8926d",
   "metadata": {},
   "outputs": [
    {
     "data": {
      "text/html": [
       "<div>\n",
       "<style scoped>\n",
       "    .dataframe tbody tr th:only-of-type {\n",
       "        vertical-align: middle;\n",
       "    }\n",
       "\n",
       "    .dataframe tbody tr th {\n",
       "        vertical-align: top;\n",
       "    }\n",
       "\n",
       "    .dataframe thead th {\n",
       "        text-align: right;\n",
       "    }\n",
       "</style>\n",
       "<table border=\"1\" class=\"dataframe\">\n",
       "  <thead>\n",
       "    <tr style=\"text-align: right;\">\n",
       "      <th></th>\n",
       "      <th>DATE</th>\n",
       "      <th>SERIES</th>\n",
       "      <th>OPEN</th>\n",
       "      <th>HIGH</th>\n",
       "      <th>LOW</th>\n",
       "      <th>PREV. CLOSE</th>\n",
       "      <th>LTP</th>\n",
       "      <th>CLOSE</th>\n",
       "      <th>VWAP</th>\n",
       "      <th>52W H</th>\n",
       "      <th>52W L</th>\n",
       "      <th>VOLUME</th>\n",
       "      <th>VALUE</th>\n",
       "      <th>NO OF TRADES</th>\n",
       "      <th>SYMBOL</th>\n",
       "    </tr>\n",
       "  </thead>\n",
       "  <tbody>\n",
       "    <tr>\n",
       "      <th>0</th>\n",
       "      <td>2020-01-30</td>\n",
       "      <td>EQ</td>\n",
       "      <td>316.75</td>\n",
       "      <td>316.75</td>\n",
       "      <td>305.65</td>\n",
       "      <td>316.45</td>\n",
       "      <td>310.00</td>\n",
       "      <td>310.70</td>\n",
       "      <td>311.18</td>\n",
       "      <td>373.8</td>\n",
       "      <td>244.35</td>\n",
       "      <td>35802330</td>\n",
       "      <td>1.114102e+10</td>\n",
       "      <td>227687</td>\n",
       "      <td>SBIN</td>\n",
       "    </tr>\n",
       "    <tr>\n",
       "      <th>1</th>\n",
       "      <td>2020-01-29</td>\n",
       "      <td>EQ</td>\n",
       "      <td>317.85</td>\n",
       "      <td>319.70</td>\n",
       "      <td>315.55</td>\n",
       "      <td>315.10</td>\n",
       "      <td>316.95</td>\n",
       "      <td>316.45</td>\n",
       "      <td>317.75</td>\n",
       "      <td>373.8</td>\n",
       "      <td>244.35</td>\n",
       "      <td>23914114</td>\n",
       "      <td>7.598704e+09</td>\n",
       "      <td>143297</td>\n",
       "      <td>SBIN</td>\n",
       "    </tr>\n",
       "    <tr>\n",
       "      <th>2</th>\n",
       "      <td>2020-01-28</td>\n",
       "      <td>EQ</td>\n",
       "      <td>317.95</td>\n",
       "      <td>320.00</td>\n",
       "      <td>311.05</td>\n",
       "      <td>316.20</td>\n",
       "      <td>316.40</td>\n",
       "      <td>315.10</td>\n",
       "      <td>316.67</td>\n",
       "      <td>373.8</td>\n",
       "      <td>244.35</td>\n",
       "      <td>26488426</td>\n",
       "      <td>8.388015e+09</td>\n",
       "      <td>173879</td>\n",
       "      <td>SBIN</td>\n",
       "    </tr>\n",
       "    <tr>\n",
       "      <th>3</th>\n",
       "      <td>2020-01-27</td>\n",
       "      <td>EQ</td>\n",
       "      <td>320.90</td>\n",
       "      <td>322.00</td>\n",
       "      <td>315.80</td>\n",
       "      <td>324.05</td>\n",
       "      <td>316.40</td>\n",
       "      <td>316.20</td>\n",
       "      <td>318.82</td>\n",
       "      <td>373.8</td>\n",
       "      <td>244.35</td>\n",
       "      <td>23309355</td>\n",
       "      <td>7.431558e+09</td>\n",
       "      <td>148768</td>\n",
       "      <td>SBIN</td>\n",
       "    </tr>\n",
       "    <tr>\n",
       "      <th>4</th>\n",
       "      <td>2020-01-24</td>\n",
       "      <td>EQ</td>\n",
       "      <td>323.50</td>\n",
       "      <td>327.30</td>\n",
       "      <td>321.15</td>\n",
       "      <td>323.20</td>\n",
       "      <td>324.30</td>\n",
       "      <td>324.05</td>\n",
       "      <td>325.15</td>\n",
       "      <td>373.8</td>\n",
       "      <td>244.35</td>\n",
       "      <td>22706879</td>\n",
       "      <td>7.383247e+09</td>\n",
       "      <td>146667</td>\n",
       "      <td>SBIN</td>\n",
       "    </tr>\n",
       "  </tbody>\n",
       "</table>\n",
       "</div>"
      ],
      "text/plain": [
       "        DATE SERIES    OPEN    HIGH     LOW  PREV. CLOSE     LTP   CLOSE  \\\n",
       "0 2020-01-30     EQ  316.75  316.75  305.65       316.45  310.00  310.70   \n",
       "1 2020-01-29     EQ  317.85  319.70  315.55       315.10  316.95  316.45   \n",
       "2 2020-01-28     EQ  317.95  320.00  311.05       316.20  316.40  315.10   \n",
       "3 2020-01-27     EQ  320.90  322.00  315.80       324.05  316.40  316.20   \n",
       "4 2020-01-24     EQ  323.50  327.30  321.15       323.20  324.30  324.05   \n",
       "\n",
       "     VWAP  52W H   52W L    VOLUME         VALUE  NO OF TRADES SYMBOL  \n",
       "0  311.18  373.8  244.35  35802330  1.114102e+10        227687   SBIN  \n",
       "1  317.75  373.8  244.35  23914114  7.598704e+09        143297   SBIN  \n",
       "2  316.67  373.8  244.35  26488426  8.388015e+09        173879   SBIN  \n",
       "3  318.82  373.8  244.35  23309355  7.431558e+09        148768   SBIN  \n",
       "4  325.15  373.8  244.35  22706879  7.383247e+09        146667   SBIN  "
      ]
     },
     "execution_count": 3,
     "metadata": {},
     "output_type": "execute_result"
    }
   ],
   "source": [
    "df.head()"
   ]
  },
  {
   "cell_type": "code",
   "execution_count": 4,
   "id": "2f539bbe",
   "metadata": {},
   "outputs": [
    {
     "data": {
      "text/plain": [
       "(1251, 15)"
      ]
     },
     "execution_count": 4,
     "metadata": {},
     "output_type": "execute_result"
    }
   ],
   "source": [
    "df.shape"
   ]
  },
  {
   "cell_type": "code",
   "execution_count": 5,
   "id": "20471570",
   "metadata": {},
   "outputs": [],
   "source": [
    "data = df[['DATE', 'SYMBOL', 'OPEN', 'PREV. CLOSE', 'LOW', 'HIGH', 'VOLUME']]"
   ]
  },
  {
   "cell_type": "code",
   "execution_count": 6,
   "id": "b019c543",
   "metadata": {},
   "outputs": [
    {
     "data": {
      "text/html": [
       "<div>\n",
       "<style scoped>\n",
       "    .dataframe tbody tr th:only-of-type {\n",
       "        vertical-align: middle;\n",
       "    }\n",
       "\n",
       "    .dataframe tbody tr th {\n",
       "        vertical-align: top;\n",
       "    }\n",
       "\n",
       "    .dataframe thead th {\n",
       "        text-align: right;\n",
       "    }\n",
       "</style>\n",
       "<table border=\"1\" class=\"dataframe\">\n",
       "  <thead>\n",
       "    <tr style=\"text-align: right;\">\n",
       "      <th></th>\n",
       "      <th>DATE</th>\n",
       "      <th>SYMBOL</th>\n",
       "      <th>OPEN</th>\n",
       "      <th>PREV. CLOSE</th>\n",
       "      <th>LOW</th>\n",
       "      <th>HIGH</th>\n",
       "      <th>VOLUME</th>\n",
       "    </tr>\n",
       "  </thead>\n",
       "  <tbody>\n",
       "    <tr>\n",
       "      <th>0</th>\n",
       "      <td>2020-01-30</td>\n",
       "      <td>SBIN</td>\n",
       "      <td>316.75</td>\n",
       "      <td>316.45</td>\n",
       "      <td>305.65</td>\n",
       "      <td>316.75</td>\n",
       "      <td>35802330</td>\n",
       "    </tr>\n",
       "    <tr>\n",
       "      <th>1</th>\n",
       "      <td>2020-01-29</td>\n",
       "      <td>SBIN</td>\n",
       "      <td>317.85</td>\n",
       "      <td>315.10</td>\n",
       "      <td>315.55</td>\n",
       "      <td>319.70</td>\n",
       "      <td>23914114</td>\n",
       "    </tr>\n",
       "    <tr>\n",
       "      <th>2</th>\n",
       "      <td>2020-01-28</td>\n",
       "      <td>SBIN</td>\n",
       "      <td>317.95</td>\n",
       "      <td>316.20</td>\n",
       "      <td>311.05</td>\n",
       "      <td>320.00</td>\n",
       "      <td>26488426</td>\n",
       "    </tr>\n",
       "    <tr>\n",
       "      <th>3</th>\n",
       "      <td>2020-01-27</td>\n",
       "      <td>SBIN</td>\n",
       "      <td>320.90</td>\n",
       "      <td>324.05</td>\n",
       "      <td>315.80</td>\n",
       "      <td>322.00</td>\n",
       "      <td>23309355</td>\n",
       "    </tr>\n",
       "    <tr>\n",
       "      <th>4</th>\n",
       "      <td>2020-01-24</td>\n",
       "      <td>SBIN</td>\n",
       "      <td>323.50</td>\n",
       "      <td>323.20</td>\n",
       "      <td>321.15</td>\n",
       "      <td>327.30</td>\n",
       "      <td>22706879</td>\n",
       "    </tr>\n",
       "  </tbody>\n",
       "</table>\n",
       "</div>"
      ],
      "text/plain": [
       "        DATE SYMBOL    OPEN  PREV. CLOSE     LOW    HIGH    VOLUME\n",
       "0 2020-01-30   SBIN  316.75       316.45  305.65  316.75  35802330\n",
       "1 2020-01-29   SBIN  317.85       315.10  315.55  319.70  23914114\n",
       "2 2020-01-28   SBIN  317.95       316.20  311.05  320.00  26488426\n",
       "3 2020-01-27   SBIN  320.90       324.05  315.80  322.00  23309355\n",
       "4 2020-01-24   SBIN  323.50       323.20  321.15  327.30  22706879"
      ]
     },
     "execution_count": 6,
     "metadata": {},
     "output_type": "execute_result"
    }
   ],
   "source": [
    "data.head()"
   ]
  },
  {
   "cell_type": "code",
   "execution_count": 7,
   "id": "11488c7d",
   "metadata": {},
   "outputs": [
    {
     "data": {
      "text/plain": [
       "(1251, 7)"
      ]
     },
     "execution_count": 7,
     "metadata": {},
     "output_type": "execute_result"
    }
   ],
   "source": [
    "data.shape"
   ]
  },
  {
   "cell_type": "code",
   "execution_count": 8,
   "id": "38ede0c3",
   "metadata": {},
   "outputs": [
    {
     "data": {
      "text/plain": [
       "SYMBOL\n",
       "SBIN    1251\n",
       "Name: count, dtype: int64"
      ]
     },
     "execution_count": 8,
     "metadata": {},
     "output_type": "execute_result"
    }
   ],
   "source": [
    "data['SYMBOL'].value_counts()"
   ]
  },
  {
   "cell_type": "code",
   "execution_count": 9,
   "id": "557abad4",
   "metadata": {},
   "outputs": [
    {
     "name": "stdout",
     "output_type": "stream",
     "text": [
      "<class 'pandas.core.frame.DataFrame'>\n",
      "RangeIndex: 1251 entries, 0 to 1250\n",
      "Data columns (total 7 columns):\n",
      " #   Column       Non-Null Count  Dtype         \n",
      "---  ------       --------------  -----         \n",
      " 0   DATE         1251 non-null   datetime64[ns]\n",
      " 1   SYMBOL       1251 non-null   object        \n",
      " 2   OPEN         1251 non-null   float64       \n",
      " 3   PREV. CLOSE  1251 non-null   float64       \n",
      " 4   LOW          1251 non-null   float64       \n",
      " 5   HIGH         1251 non-null   float64       \n",
      " 6   VOLUME       1251 non-null   int64         \n",
      "dtypes: datetime64[ns](1), float64(4), int64(1), object(1)\n",
      "memory usage: 68.5+ KB\n"
     ]
    }
   ],
   "source": [
    "data.info()"
   ]
  },
  {
   "cell_type": "code",
   "execution_count": 10,
   "id": "1fd9b167",
   "metadata": {},
   "outputs": [
    {
     "data": {
      "text/html": [
       "<div>\n",
       "<style scoped>\n",
       "    .dataframe tbody tr th:only-of-type {\n",
       "        vertical-align: middle;\n",
       "    }\n",
       "\n",
       "    .dataframe tbody tr th {\n",
       "        vertical-align: top;\n",
       "    }\n",
       "\n",
       "    .dataframe thead th {\n",
       "        text-align: right;\n",
       "    }\n",
       "</style>\n",
       "<table border=\"1\" class=\"dataframe\">\n",
       "  <thead>\n",
       "    <tr style=\"text-align: right;\">\n",
       "      <th></th>\n",
       "      <th>DATE</th>\n",
       "      <th>OPEN</th>\n",
       "      <th>PREV. CLOSE</th>\n",
       "      <th>LOW</th>\n",
       "      <th>HIGH</th>\n",
       "      <th>VOLUME</th>\n",
       "    </tr>\n",
       "  </thead>\n",
       "  <tbody>\n",
       "    <tr>\n",
       "      <th>count</th>\n",
       "      <td>1251</td>\n",
       "      <td>1251.000000</td>\n",
       "      <td>1251.000000</td>\n",
       "      <td>1251.000000</td>\n",
       "      <td>1251.000000</td>\n",
       "      <td>1.251000e+03</td>\n",
       "    </tr>\n",
       "    <tr>\n",
       "      <th>mean</th>\n",
       "      <td>2017-07-15 00:10:21.582733824</td>\n",
       "      <td>272.440568</td>\n",
       "      <td>271.862110</td>\n",
       "      <td>268.413589</td>\n",
       "      <td>275.795004</td>\n",
       "      <td>2.081010e+07</td>\n",
       "    </tr>\n",
       "    <tr>\n",
       "      <th>min</th>\n",
       "      <td>2015-01-01 00:00:00</td>\n",
       "      <td>155.000000</td>\n",
       "      <td>151.800000</td>\n",
       "      <td>148.250000</td>\n",
       "      <td>157.650000</td>\n",
       "      <td>2.061681e+06</td>\n",
       "    </tr>\n",
       "    <tr>\n",
       "      <th>25%</th>\n",
       "      <td>2016-04-09 12:00:00</td>\n",
       "      <td>252.000000</td>\n",
       "      <td>251.275000</td>\n",
       "      <td>248.525000</td>\n",
       "      <td>255.325000</td>\n",
       "      <td>1.263975e+07</td>\n",
       "    </tr>\n",
       "    <tr>\n",
       "      <th>50%</th>\n",
       "      <td>2017-07-14 00:00:00</td>\n",
       "      <td>274.000000</td>\n",
       "      <td>273.300000</td>\n",
       "      <td>269.900000</td>\n",
       "      <td>277.000000</td>\n",
       "      <td>1.701312e+07</td>\n",
       "    </tr>\n",
       "    <tr>\n",
       "      <th>75%</th>\n",
       "      <td>2018-10-18 00:00:00</td>\n",
       "      <td>297.000000</td>\n",
       "      <td>297.350000</td>\n",
       "      <td>293.275000</td>\n",
       "      <td>302.000000</td>\n",
       "      <td>2.394051e+07</td>\n",
       "    </tr>\n",
       "    <tr>\n",
       "      <th>max</th>\n",
       "      <td>2020-01-30 00:00:00</td>\n",
       "      <td>371.950000</td>\n",
       "      <td>372.400000</td>\n",
       "      <td>366.200000</td>\n",
       "      <td>373.800000</td>\n",
       "      <td>2.626771e+08</td>\n",
       "    </tr>\n",
       "    <tr>\n",
       "      <th>std</th>\n",
       "      <td>NaN</td>\n",
       "      <td>40.561452</td>\n",
       "      <td>40.513654</td>\n",
       "      <td>40.123427</td>\n",
       "      <td>40.897982</td>\n",
       "      <td>1.484999e+07</td>\n",
       "    </tr>\n",
       "  </tbody>\n",
       "</table>\n",
       "</div>"
      ],
      "text/plain": [
       "                                DATE         OPEN  PREV. CLOSE          LOW  \\\n",
       "count                           1251  1251.000000  1251.000000  1251.000000   \n",
       "mean   2017-07-15 00:10:21.582733824   272.440568   271.862110   268.413589   \n",
       "min              2015-01-01 00:00:00   155.000000   151.800000   148.250000   \n",
       "25%              2016-04-09 12:00:00   252.000000   251.275000   248.525000   \n",
       "50%              2017-07-14 00:00:00   274.000000   273.300000   269.900000   \n",
       "75%              2018-10-18 00:00:00   297.000000   297.350000   293.275000   \n",
       "max              2020-01-30 00:00:00   371.950000   372.400000   366.200000   \n",
       "std                              NaN    40.561452    40.513654    40.123427   \n",
       "\n",
       "              HIGH        VOLUME  \n",
       "count  1251.000000  1.251000e+03  \n",
       "mean    275.795004  2.081010e+07  \n",
       "min     157.650000  2.061681e+06  \n",
       "25%     255.325000  1.263975e+07  \n",
       "50%     277.000000  1.701312e+07  \n",
       "75%     302.000000  2.394051e+07  \n",
       "max     373.800000  2.626771e+08  \n",
       "std      40.897982  1.484999e+07  "
      ]
     },
     "execution_count": 10,
     "metadata": {},
     "output_type": "execute_result"
    }
   ],
   "source": [
    "data.describe()"
   ]
  },
  {
   "cell_type": "code",
   "execution_count": 11,
   "id": "9897c7d3",
   "metadata": {},
   "outputs": [
    {
     "data": {
      "text/plain": [
       "DATE           0\n",
       "SYMBOL         0\n",
       "OPEN           0\n",
       "PREV. CLOSE    0\n",
       "LOW            0\n",
       "HIGH           0\n",
       "VOLUME         0\n",
       "dtype: int64"
      ]
     },
     "execution_count": 11,
     "metadata": {},
     "output_type": "execute_result"
    }
   ],
   "source": [
    "data.isnull().sum()"
   ]
  },
  {
   "cell_type": "code",
   "execution_count": 12,
   "id": "1918243e",
   "metadata": {},
   "outputs": [
    {
     "data": {
      "text/plain": [
       "1251"
      ]
     },
     "execution_count": 12,
     "metadata": {},
     "output_type": "execute_result"
    }
   ],
   "source": [
    "len(data['DATE'].unique())"
   ]
  },
  {
   "cell_type": "code",
   "execution_count": 13,
   "id": "82afe5fb",
   "metadata": {},
   "outputs": [],
   "source": [
    "# def plotter(code):\n",
    "#     global closing_stock , opening_stock\n",
    "    \n",
    "#     #Opening Price Plot\n",
    "    \n",
    "#     plt.subplot(2,1,1)\n",
    "#     company = df[df['SYMBOL'] == code]\n",
    "#     company = company['OPEN'].values.astype('float32')\n",
    "#     company = company.reshape(-1,1)\n",
    "#     opening_stock = company\n",
    "    \n",
    "#     plt.grid(True)\n",
    "#     plt.xlabel('Time')\n",
    "#     plt.ylabel(code + '  Open stock prices')\n",
    "#     plt.title('Price X Time' + code)\n",
    "#     plt.plot(company,'g')\n",
    "#     plt.show()\n",
    "    \n",
    "#     #Closing Price Plot\n",
    "#     plt.subplot(2,1,2)\n",
    "#     company_close = df[df['SYMBOL'] == code]\n",
    "#     company_close = company_close['CLOSE'].values.astype('float32')\n",
    "#     company_close = company_close.reshape(-1,1)\n",
    "#     closing_stock = company_close\n",
    "    \n",
    "#     plt.grid(True)\n",
    "#     plt.xlabel('Time')\n",
    "#     plt.ylabel(code + '  Close Stock Prices')\n",
    "#     plt.title('Price X Time for  '+ code)\n",
    "#     plt.plot(company_close,'b')\n",
    "#     plt.show()\n",
    "    "
   ]
  },
  {
   "cell_type": "code",
   "execution_count": 47,
   "id": "2c20fadf",
   "metadata": {},
   "outputs": [],
   "source": [
    "# plotter('SBIN')"
   ]
  },
  {
   "cell_type": "code",
   "execution_count": 15,
   "id": "f938018e",
   "metadata": {},
   "outputs": [
    {
     "data": {
      "text/plain": [
       "array([316.45, 315.1 , 316.2 , ..., 315.25, 314.  , 311.85])"
      ]
     },
     "execution_count": 15,
     "metadata": {},
     "output_type": "execute_result"
    }
   ],
   "source": [
    "stocks = np.array(data[data['SYMBOL'].isin(['SBIN'])]['PREV. CLOSE'])\n",
    "\n",
    "stocks"
   ]
  },
  {
   "cell_type": "code",
   "execution_count": 16,
   "id": "40e76755",
   "metadata": {},
   "outputs": [
    {
     "data": {
      "text/plain": [
       "(1251, 1)"
      ]
     },
     "execution_count": 16,
     "metadata": {},
     "output_type": "execute_result"
    }
   ],
   "source": [
    "stocks = stocks.reshape(-1,1)\n",
    "stocks.shape"
   ]
  },
  {
   "cell_type": "code",
   "execution_count": 17,
   "id": "6804c9eb",
   "metadata": {},
   "outputs": [
    {
     "data": {
      "text/plain": [
       "array([[0.74637353],\n",
       "       [0.74025385],\n",
       "       [0.74524025],\n",
       "       ...,\n",
       "       [0.74093382],\n",
       "       [0.73526745],\n",
       "       [0.72552131]])"
      ]
     },
     "execution_count": 17,
     "metadata": {},
     "output_type": "execute_result"
    }
   ],
   "source": [
    "mms = MinMaxScaler(feature_range=(0,1))\n",
    "stocks = mms.fit_transform(stocks)\n",
    "stocks"
   ]
  },
  {
   "cell_type": "code",
   "execution_count": 18,
   "id": "fe286e15",
   "metadata": {},
   "outputs": [
    {
     "data": {
      "text/plain": [
       "1000"
      ]
     },
     "execution_count": 18,
     "metadata": {},
     "output_type": "execute_result"
    }
   ],
   "source": [
    "train_len = int(len(stocks) * 0.8)\n",
    "train_len"
   ]
  },
  {
   "cell_type": "code",
   "execution_count": 19,
   "id": "34e5da7d",
   "metadata": {},
   "outputs": [
    {
     "data": {
      "text/plain": [
       "251"
      ]
     },
     "execution_count": 19,
     "metadata": {},
     "output_type": "execute_result"
    }
   ],
   "source": [
    "test_len = len(stocks) - train_len\n",
    "test_len"
   ]
  },
  {
   "cell_type": "code",
   "execution_count": 20,
   "id": "b1855bb6",
   "metadata": {},
   "outputs": [
    {
     "name": "stdout",
     "output_type": "stream",
     "text": [
      "(1000, 1)\n"
     ]
    }
   ],
   "source": [
    "train = stocks[0:train_len]\n",
    "print(train.shape)"
   ]
  },
  {
   "cell_type": "code",
   "execution_count": 21,
   "id": "71172abe",
   "metadata": {},
   "outputs": [
    {
     "name": "stdout",
     "output_type": "stream",
     "text": [
      "(251, 1)\n"
     ]
    }
   ],
   "source": [
    "test = stocks[train_len:]\n",
    "print(test.shape)"
   ]
  },
  {
   "cell_type": "code",
   "execution_count": 22,
   "id": "0eb15e54",
   "metadata": {},
   "outputs": [],
   "source": [
    "def process_data(data , n_features):\n",
    "    dataX , dataY = [],[]\n",
    "    for i in range(len(data) - n_features):\n",
    "        a = data[i : (i + n_features),0]\n",
    "        dataX.append(a)\n",
    "        dataY.append(data[i + n_features,0 ])\n",
    "    return np.array(dataX) , np.array(dataY)"
   ]
  },
  {
   "cell_type": "code",
   "execution_count": 23,
   "id": "d5051bad",
   "metadata": {},
   "outputs": [
    {
     "name": "stdout",
     "output_type": "stream",
     "text": [
      "(995, 5) (995,)\n"
     ]
    }
   ],
   "source": [
    "n_features = 5\n",
    "trainX , trainY = process_data(train , n_features)\n",
    "print(trainX.shape , trainY.shape)"
   ]
  },
  {
   "cell_type": "code",
   "execution_count": 24,
   "id": "32bfcbe2",
   "metadata": {},
   "outputs": [
    {
     "name": "stdout",
     "output_type": "stream",
     "text": [
      "(246, 5) (246,)\n"
     ]
    }
   ],
   "source": [
    "testX , testY = process_data(test , n_features)\n",
    "print(testX.shape , testY.shape)"
   ]
  },
  {
   "cell_type": "code",
   "execution_count": 25,
   "id": "24192972",
   "metadata": {},
   "outputs": [
    {
     "name": "stdout",
     "output_type": "stream",
     "text": [
      "(1246, 5) (1246,)\n"
     ]
    }
   ],
   "source": [
    "stocksX, stocksY = process_data(stocks, n_features)\n",
    "print (stocksX.shape , stocksY.shape)"
   ]
  },
  {
   "cell_type": "code",
   "execution_count": 26,
   "id": "bd304ae7",
   "metadata": {},
   "outputs": [
    {
     "data": {
      "text/plain": [
       "array([[0.74637353, 0.74025385, 0.74524025, 0.78082502, 0.77697189],\n",
       "       [0.74025385, 0.74524025, 0.78082502, 0.77697189, 0.7450136 ],\n",
       "       [0.74524025, 0.78082502, 0.77697189, 0.7450136 , 0.73390752],\n",
       "       [0.78082502, 0.77697189, 0.7450136 , 0.73390752, 0.73526745],\n",
       "       [0.77697189, 0.7450136 , 0.73390752, 0.73526745, 0.75339982],\n",
       "       [0.7450136 , 0.73390752, 0.73526745, 0.75339982, 0.7774252 ],\n",
       "       [0.73390752, 0.73526745, 0.75339982, 0.7774252 , 0.78173164],\n",
       "       [0.73526745, 0.75339982, 0.7774252 , 0.78173164, 0.79873073],\n",
       "       [0.75339982, 0.7774252 , 0.78173164, 0.79873073, 0.81119674],\n",
       "       [0.7774252 , 0.78173164, 0.79873073, 0.81119674, 0.81799637]])"
      ]
     },
     "execution_count": 26,
     "metadata": {},
     "output_type": "execute_result"
    }
   ],
   "source": [
    "trainX[:10]"
   ]
  },
  {
   "cell_type": "code",
   "execution_count": 27,
   "id": "2ecfef5e",
   "metadata": {},
   "outputs": [
    {
     "name": "stdout",
     "output_type": "stream",
     "text": [
      "(995, 5)\n"
     ]
    },
    {
     "data": {
      "text/plain": [
       "(995, 1, 5)"
      ]
     },
     "execution_count": 27,
     "metadata": {},
     "output_type": "execute_result"
    }
   ],
   "source": [
    "print(trainX.shape)\n",
    "trainX = trainX.reshape(trainX.shape[0] , 1 , trainX.shape[1])\n",
    "trainX.shape"
   ]
  },
  {
   "cell_type": "code",
   "execution_count": 28,
   "id": "e7001cdd",
   "metadata": {},
   "outputs": [
    {
     "data": {
      "text/plain": [
       "(246, 1, 5)"
      ]
     },
     "execution_count": 28,
     "metadata": {},
     "output_type": "execute_result"
    }
   ],
   "source": [
    "testX = testX.reshape(testX.shape[0] , 1 , testX.shape[1])\n",
    "testX.shape"
   ]
  },
  {
   "cell_type": "code",
   "execution_count": 29,
   "id": "3850cf43",
   "metadata": {},
   "outputs": [
    {
     "data": {
      "text/plain": [
       "(1246, 1, 5)"
      ]
     },
     "metadata": {},
     "output_type": "display_data"
    }
   ],
   "source": [
    "stocksX= stocksX.reshape(stocksX.shape[0] , 1 ,stocksX.shape[1])\n",
    "display (stocksX.shape)"
   ]
  },
  {
   "cell_type": "markdown",
   "id": "89fb4361",
   "metadata": {},
   "source": [
    "# BUILDING MODEL"
   ]
  },
  {
   "cell_type": "code",
   "execution_count": 30,
   "id": "e5e8b8b3",
   "metadata": {},
   "outputs": [],
   "source": [
    "from keras.layers import LSTM , GRU\n",
    "from keras.models import Sequential\n",
    "from keras.layers import Dense , BatchNormalization , Dropout , Activation\n",
    "from keras.optimizers import Adam , SGD , RMSprop\n",
    "from sklearn.metrics import mean_squared_error\n",
    "import math"
   ]
  },
  {
   "cell_type": "code",
   "execution_count": 31,
   "id": "90546ade",
   "metadata": {},
   "outputs": [
    {
     "name": "stdout",
     "output_type": "stream",
     "text": [
      "WARNING:tensorflow:`epsilon` argument is deprecated and will be removed, use `min_delta` instead.\n"
     ]
    }
   ],
   "source": [
    "filepath = 'PRJ Stock Price Prediction\\stock_weights1.hdf5'\n",
    "from keras.callbacks import ReduceLROnPlateau , ModelCheckpoint\n",
    "lr_reduce = ReduceLROnPlateau(monitor = 'val_loss' , factor = 0.1 , epsilon = 0.0001 , patience = 1 , verbose = 1)\n",
    "checkpoint = ModelCheckpoint(filepath , monitor = 'val_loss' , varbose = 1 , save_best_only = True , mode = 'max')"
   ]
  },
  {
   "cell_type": "code",
   "execution_count": 32,
   "id": "5a10dcc6",
   "metadata": {},
   "outputs": [],
   "source": [
    "model = Sequential()"
   ]
  },
  {
   "cell_type": "code",
   "execution_count": 33,
   "id": "385379a2",
   "metadata": {},
   "outputs": [
    {
     "name": "stdout",
     "output_type": "stream",
     "text": [
      "Model: \"sequential\"\n",
      "_________________________________________________________________\n",
      " Layer (type)                Output Shape              Param #   \n",
      "=================================================================\n",
      " gru (GRU)                   (None, 1, 256)            201984    \n",
      "                                                                 \n",
      " dropout (Dropout)           (None, 1, 256)            0         \n",
      "                                                                 \n",
      " lstm (LSTM)                 (None, 256)               525312    \n",
      "                                                                 \n",
      " dropout_1 (Dropout)         (None, 256)               0         \n",
      "                                                                 \n",
      " dense (Dense)               (None, 64)                16448     \n",
      "                                                                 \n",
      " dense_1 (Dense)             (None, 1)                 65        \n",
      "                                                                 \n",
      "=================================================================\n",
      "Total params: 743,809\n",
      "Trainable params: 743,809\n",
      "Non-trainable params: 0\n",
      "_________________________________________________________________\n",
      "None\n"
     ]
    }
   ],
   "source": [
    "model.add(GRU(256 , input_shape = (1 , n_features) , return_sequences = True))\n",
    "model.add(Dropout(0.4))\n",
    "model.add(LSTM(256))\n",
    "model.add(Dropout(0.4))\n",
    "model.add(Dense(64 , activation = 'relu'))\n",
    "model.add(Dense(1))\n",
    "print(model.summary())"
   ]
  },
  {
   "cell_type": "code",
   "execution_count": 34,
   "id": "5f1f8c83",
   "metadata": {},
   "outputs": [],
   "source": [
    "model.compile( loss = 'mean_squared_error' , optimizer = Adam(learning_rate=0.0005) , metrics = ['mean_squared_error'])"
   ]
  },
  {
   "cell_type": "code",
   "execution_count": 35,
   "id": "9d0e18fb",
   "metadata": {},
   "outputs": [
    {
     "name": "stdout",
     "output_type": "stream",
     "text": [
      "Epoch 1/50\n",
      "32/32 [==============================] - 6s 58ms/step - loss: 0.0888 - mean_squared_error: 0.0888 - val_loss: 0.0036 - val_mean_squared_error: 0.0036 - lr: 5.0000e-04\n",
      "Epoch 2/50\n",
      "32/32 [==============================] - 0s 14ms/step - loss: 0.0068 - mean_squared_error: 0.0068 - val_loss: 0.0018 - val_mean_squared_error: 0.0018 - lr: 5.0000e-04\n",
      "Epoch 3/50\n",
      "28/32 [=========================>....] - ETA: 0s - loss: 0.0051 - mean_squared_error: 0.0051\n",
      "Epoch 3: ReduceLROnPlateau reducing learning rate to 5.0000002374872565e-05.\n",
      "32/32 [==============================] - 0s 15ms/step - loss: 0.0050 - mean_squared_error: 0.0050 - val_loss: 0.0017 - val_mean_squared_error: 0.0017 - lr: 5.0000e-04\n",
      "Epoch 4/50\n",
      "32/32 [==============================] - 0s 14ms/step - loss: 0.0046 - mean_squared_error: 0.0046 - val_loss: 0.0016 - val_mean_squared_error: 0.0016 - lr: 5.0000e-05\n",
      "Epoch 5/50\n",
      "31/32 [============================>.] - ETA: 0s - loss: 0.0045 - mean_squared_error: 0.0045\n",
      "Epoch 5: ReduceLROnPlateau reducing learning rate to 5.000000237487257e-06.\n",
      "32/32 [==============================] - 0s 14ms/step - loss: 0.0045 - mean_squared_error: 0.0045 - val_loss: 0.0016 - val_mean_squared_error: 0.0016 - lr: 5.0000e-05\n",
      "Epoch 6/50\n",
      "29/32 [==========================>...] - ETA: 0s - loss: 0.0047 - mean_squared_error: 0.0047\n",
      "Epoch 6: ReduceLROnPlateau reducing learning rate to 5.000000328436726e-07.\n",
      "32/32 [==============================] - 1s 17ms/step - loss: 0.0047 - mean_squared_error: 0.0047 - val_loss: 0.0016 - val_mean_squared_error: 0.0016 - lr: 5.0000e-06\n",
      "Epoch 7/50\n",
      "30/32 [===========================>..] - ETA: 0s - loss: 0.0045 - mean_squared_error: 0.0045\n",
      "Epoch 7: ReduceLROnPlateau reducing learning rate to 5.000000555810402e-08.\n",
      "32/32 [==============================] - 0s 14ms/step - loss: 0.0045 - mean_squared_error: 0.0045 - val_loss: 0.0016 - val_mean_squared_error: 0.0016 - lr: 5.0000e-07\n",
      "Epoch 8/50\n",
      "29/32 [==========================>...] - ETA: 0s - loss: 0.0047 - mean_squared_error: 0.0047\n",
      "Epoch 8: ReduceLROnPlateau reducing learning rate to 5.000000413701855e-09.\n",
      "32/32 [==============================] - 0s 14ms/step - loss: 0.0046 - mean_squared_error: 0.0046 - val_loss: 0.0016 - val_mean_squared_error: 0.0016 - lr: 5.0000e-08\n",
      "Epoch 9/50\n",
      "30/32 [===========================>..] - ETA: 0s - loss: 0.0049 - mean_squared_error: 0.0049\n",
      "Epoch 9: ReduceLROnPlateau reducing learning rate to 5.000000413701855e-10.\n",
      "32/32 [==============================] - 0s 14ms/step - loss: 0.0049 - mean_squared_error: 0.0049 - val_loss: 0.0016 - val_mean_squared_error: 0.0016 - lr: 5.0000e-09\n",
      "Epoch 10/50\n",
      "29/32 [==========================>...] - ETA: 0s - loss: 0.0048 - mean_squared_error: 0.0048\n",
      "Epoch 10: ReduceLROnPlateau reducing learning rate to 5.000000413701855e-11.\n",
      "32/32 [==============================] - 1s 16ms/step - loss: 0.0048 - mean_squared_error: 0.0048 - val_loss: 0.0016 - val_mean_squared_error: 0.0016 - lr: 5.0000e-10\n",
      "Epoch 11/50\n",
      "30/32 [===========================>..] - ETA: 0s - loss: 0.0049 - mean_squared_error: 0.0049\n",
      "Epoch 11: ReduceLROnPlateau reducing learning rate to 5.000000413701855e-12.\n",
      "32/32 [==============================] - 0s 16ms/step - loss: 0.0049 - mean_squared_error: 0.0049 - val_loss: 0.0016 - val_mean_squared_error: 0.0016 - lr: 5.0000e-11\n",
      "Epoch 12/50\n",
      "28/32 [=========================>....] - ETA: 0s - loss: 0.0048 - mean_squared_error: 0.0048\n",
      "Epoch 12: ReduceLROnPlateau reducing learning rate to 5.000000413701855e-13.\n",
      "32/32 [==============================] - 0s 14ms/step - loss: 0.0048 - mean_squared_error: 0.0048 - val_loss: 0.0016 - val_mean_squared_error: 0.0016 - lr: 5.0000e-12\n",
      "Epoch 13/50\n",
      "28/32 [=========================>....] - ETA: 0s - loss: 0.0048 - mean_squared_error: 0.0048\n",
      "Epoch 13: ReduceLROnPlateau reducing learning rate to 5.0000005221220725e-14.\n",
      "32/32 [==============================] - 0s 14ms/step - loss: 0.0047 - mean_squared_error: 0.0047 - val_loss: 0.0016 - val_mean_squared_error: 0.0016 - lr: 5.0000e-13\n",
      "Epoch 14/50\n",
      "30/32 [===========================>..] - ETA: 0s - loss: 0.0047 - mean_squared_error: 0.0047\n",
      "Epoch 14: ReduceLROnPlateau reducing learning rate to 5.000000589884709e-15.\n",
      "32/32 [==============================] - 1s 17ms/step - loss: 0.0047 - mean_squared_error: 0.0047 - val_loss: 0.0016 - val_mean_squared_error: 0.0016 - lr: 5.0000e-14\n",
      "Epoch 15/50\n",
      "28/32 [=========================>....] - ETA: 0s - loss: 0.0045 - mean_squared_error: 0.0045\n",
      "Epoch 15: ReduceLROnPlateau reducing learning rate to 5.000000759291298e-16.\n",
      "32/32 [==============================] - 0s 15ms/step - loss: 0.0044 - mean_squared_error: 0.0044 - val_loss: 0.0016 - val_mean_squared_error: 0.0016 - lr: 5.0000e-15\n",
      "Epoch 16/50\n",
      "31/32 [============================>.] - ETA: 0s - loss: 0.0046 - mean_squared_error: 0.0046\n",
      "Epoch 16: ReduceLROnPlateau reducing learning rate to 5.000000547533061e-17.\n",
      "32/32 [==============================] - 0s 15ms/step - loss: 0.0046 - mean_squared_error: 0.0046 - val_loss: 0.0016 - val_mean_squared_error: 0.0016 - lr: 5.0000e-16\n",
      "Epoch 17/50\n",
      "28/32 [=========================>....] - ETA: 0s - loss: 0.0044 - mean_squared_error: 0.0044\n",
      "Epoch 17: ReduceLROnPlateau reducing learning rate to 5.000000415184163e-18.\n",
      "32/32 [==============================] - 0s 15ms/step - loss: 0.0045 - mean_squared_error: 0.0045 - val_loss: 0.0016 - val_mean_squared_error: 0.0016 - lr: 5.0000e-17\n",
      "Epoch 18/50\n",
      "31/32 [============================>.] - ETA: 0s - loss: 0.0047 - mean_squared_error: 0.0047\n",
      "Epoch 18: ReduceLROnPlateau reducing learning rate to 5.000000332466102e-19.\n",
      "32/32 [==============================] - 0s 15ms/step - loss: 0.0047 - mean_squared_error: 0.0047 - val_loss: 0.0016 - val_mean_squared_error: 0.0016 - lr: 5.0000e-18\n",
      "Epoch 19/50\n",
      "28/32 [=========================>....] - ETA: 0s - loss: 0.0045 - mean_squared_error: 0.0045\n",
      "Epoch 19: ReduceLROnPlateau reducing learning rate to 5.000000229068525e-20.\n",
      "32/32 [==============================] - 0s 14ms/step - loss: 0.0044 - mean_squared_error: 0.0044 - val_loss: 0.0016 - val_mean_squared_error: 0.0016 - lr: 5.0000e-19\n",
      "Epoch 20/50\n",
      "31/32 [============================>.] - ETA: 0s - loss: 0.0046 - mean_squared_error: 0.0046\n",
      "Epoch 20: ReduceLROnPlateau reducing learning rate to 5.00000016444504e-21.\n",
      "32/32 [==============================] - 0s 13ms/step - loss: 0.0046 - mean_squared_error: 0.0046 - val_loss: 0.0016 - val_mean_squared_error: 0.0016 - lr: 5.0000e-20\n",
      "Epoch 21/50\n",
      "28/32 [=========================>....] - ETA: 0s - loss: 0.0044 - mean_squared_error: 0.0044\n",
      "Epoch 21: ReduceLROnPlateau reducing learning rate to 5.000000245224397e-22.\n",
      "32/32 [==============================] - 0s 15ms/step - loss: 0.0044 - mean_squared_error: 0.0044 - val_loss: 0.0016 - val_mean_squared_error: 0.0016 - lr: 5.0000e-21\n",
      "Epoch 22/50\n",
      "28/32 [=========================>....] - ETA: 0s - loss: 0.0044 - mean_squared_error: 0.0044\n",
      "Epoch 22: ReduceLROnPlateau reducing learning rate to 5.0000003461985925e-23.\n",
      "32/32 [==============================] - 0s 14ms/step - loss: 0.0045 - mean_squared_error: 0.0045 - val_loss: 0.0016 - val_mean_squared_error: 0.0016 - lr: 5.0000e-22\n",
      "Epoch 23/50\n",
      "29/32 [==========================>...] - ETA: 0s - loss: 0.0043 - mean_squared_error: 0.0043\n",
      "Epoch 23: ReduceLROnPlateau reducing learning rate to 5.000000472416337e-24.\n",
      "32/32 [==============================] - 0s 14ms/step - loss: 0.0044 - mean_squared_error: 0.0044 - val_loss: 0.0016 - val_mean_squared_error: 0.0016 - lr: 5.0000e-23\n",
      "Epoch 24/50\n",
      "29/32 [==========================>...] - ETA: 0s - loss: 0.0053 - mean_squared_error: 0.0053\n",
      "Epoch 24: ReduceLROnPlateau reducing learning rate to 5.000000393530247e-25.\n",
      "32/32 [==============================] - 0s 14ms/step - loss: 0.0052 - mean_squared_error: 0.0052 - val_loss: 0.0016 - val_mean_squared_error: 0.0016 - lr: 5.0000e-24\n",
      "Epoch 25/50\n",
      "29/32 [==========================>...] - ETA: 0s - loss: 0.0044 - mean_squared_error: 0.0044\n",
      "Epoch 25: ReduceLROnPlateau reducing learning rate to 5.000000590745473e-26.\n",
      "32/32 [==============================] - 0s 14ms/step - loss: 0.0045 - mean_squared_error: 0.0045 - val_loss: 0.0016 - val_mean_squared_error: 0.0016 - lr: 5.0000e-25\n",
      "Epoch 26/50\n",
      "28/32 [=========================>....] - ETA: 0s - loss: 0.0045 - mean_squared_error: 0.0045\n",
      "Epoch 26: ReduceLROnPlateau reducing learning rate to 5.000000714004989e-27.\n",
      "32/32 [==============================] - 0s 14ms/step - loss: 0.0046 - mean_squared_error: 0.0046 - val_loss: 0.0016 - val_mean_squared_error: 0.0016 - lr: 5.0000e-26\n",
      "Epoch 27/50\n",
      "28/32 [=========================>....] - ETA: 0s - loss: 0.0047 - mean_squared_error: 0.0047\n",
      "Epoch 27: ReduceLROnPlateau reducing learning rate to 5.00000071400499e-28.\n",
      "32/32 [==============================] - 0s 14ms/step - loss: 0.0047 - mean_squared_error: 0.0047 - val_loss: 0.0016 - val_mean_squared_error: 0.0016 - lr: 5.0000e-27\n",
      "Epoch 28/50\n",
      "28/32 [=========================>....] - ETA: 0s - loss: 0.0049 - mean_squared_error: 0.0049\n",
      "Epoch 28: ReduceLROnPlateau reducing learning rate to 5.000000617708492e-29.\n",
      "32/32 [==============================] - 0s 15ms/step - loss: 0.0049 - mean_squared_error: 0.0049 - val_loss: 0.0016 - val_mean_squared_error: 0.0016 - lr: 5.0000e-28\n",
      "Epoch 29/50\n",
      "27/32 [========================>.....] - ETA: 0s - loss: 0.0046 - mean_squared_error: 0.0046\n",
      "Epoch 29: ReduceLROnPlateau reducing learning rate to 5.0000006177084924e-30.\n",
      "32/32 [==============================] - 0s 14ms/step - loss: 0.0046 - mean_squared_error: 0.0046 - val_loss: 0.0016 - val_mean_squared_error: 0.0016 - lr: 5.0000e-29\n",
      "Epoch 30/50\n",
      "30/32 [===========================>..] - ETA: 0s - loss: 0.0045 - mean_squared_error: 0.0045\n",
      "Epoch 30: ReduceLROnPlateau reducing learning rate to 5.0000007681717695e-31.\n",
      "32/32 [==============================] - 0s 14ms/step - loss: 0.0046 - mean_squared_error: 0.0046 - val_loss: 0.0016 - val_mean_squared_error: 0.0016 - lr: 5.0000e-30\n",
      "Epoch 31/50\n",
      "32/32 [==============================] - ETA: 0s - loss: 0.0045 - mean_squared_error: 0.0045\n",
      "Epoch 31: ReduceLROnPlateau reducing learning rate to 5.000000956250865e-32.\n",
      "32/32 [==============================] - 0s 14ms/step - loss: 0.0045 - mean_squared_error: 0.0045 - val_loss: 0.0016 - val_mean_squared_error: 0.0016 - lr: 5.0000e-31\n",
      "Epoch 32/50\n",
      "29/32 [==========================>...] - ETA: 0s - loss: 0.0045 - mean_squared_error: 0.0045\n",
      "Epoch 32: ReduceLROnPlateau reducing learning rate to 5.0000010738003005e-33.\n",
      "32/32 [==============================] - 0s 14ms/step - loss: 0.0045 - mean_squared_error: 0.0045 - val_loss: 0.0016 - val_mean_squared_error: 0.0016 - lr: 5.0000e-32\n",
      "Epoch 33/50\n",
      "31/32 [============================>.] - ETA: 0s - loss: 0.0045 - mean_squared_error: 0.0045\n",
      "Epoch 33: ReduceLROnPlateau reducing learning rate to 5.000001220737094e-34.\n",
      "32/32 [==============================] - 0s 13ms/step - loss: 0.0045 - mean_squared_error: 0.0045 - val_loss: 0.0016 - val_mean_squared_error: 0.0016 - lr: 5.0000e-33\n",
      "Epoch 34/50\n",
      "28/32 [=========================>....] - ETA: 0s - loss: 0.0048 - mean_squared_error: 0.0048\n",
      "Epoch 34: ReduceLROnPlateau reducing learning rate to 5.000001037066102e-35.\n",
      "32/32 [==============================] - 0s 14ms/step - loss: 0.0048 - mean_squared_error: 0.0048 - val_loss: 0.0016 - val_mean_squared_error: 0.0016 - lr: 5.0000e-34\n",
      "Epoch 35/50\n",
      "31/32 [============================>.] - ETA: 0s - loss: 0.0047 - mean_squared_error: 0.0047\n",
      "Epoch 35: ReduceLROnPlateau reducing learning rate to 5.000000807477361e-36.\n",
      "32/32 [==============================] - 0s 13ms/step - loss: 0.0047 - mean_squared_error: 0.0047 - val_loss: 0.0016 - val_mean_squared_error: 0.0016 - lr: 5.0000e-35\n",
      "Epoch 36/50\n",
      "31/32 [============================>.] - ETA: 0s - loss: 0.0049 - mean_squared_error: 0.0049\n",
      "Epoch 36: ReduceLROnPlateau reducing learning rate to 5.000000807477361e-37.\n",
      "32/32 [==============================] - 0s 15ms/step - loss: 0.0049 - mean_squared_error: 0.0049 - val_loss: 0.0016 - val_mean_squared_error: 0.0016 - lr: 5.0000e-36\n",
      "Epoch 37/50\n",
      "29/32 [==========================>...] - ETA: 0s - loss: 0.0045 - mean_squared_error: 0.0045\n",
      "Epoch 37: ReduceLROnPlateau reducing learning rate to 5.000000628111158e-38.\n",
      "32/32 [==============================] - 0s 14ms/step - loss: 0.0045 - mean_squared_error: 0.0045 - val_loss: 0.0016 - val_mean_squared_error: 0.0016 - lr: 5.0000e-37\n",
      "Epoch 38/50\n",
      "28/32 [=========================>....] - ETA: 0s - loss: 0.0047 - mean_squared_error: 0.0047\n",
      "Epoch 38: ReduceLROnPlateau reducing learning rate to 5.000000516007281e-39.\n",
      "32/32 [==============================] - 0s 14ms/step - loss: 0.0047 - mean_squared_error: 0.0047 - val_loss: 0.0016 - val_mean_squared_error: 0.0016 - lr: 5.0000e-38\n",
      "Epoch 39/50\n",
      "30/32 [===========================>..] - ETA: 0s - loss: 0.0044 - mean_squared_error: 0.0044\n",
      "Epoch 39: ReduceLROnPlateau reducing learning rate to 5.000001076526666e-40.\n",
      "32/32 [==============================] - 0s 14ms/step - loss: 0.0044 - mean_squared_error: 0.0044 - val_loss: 0.0016 - val_mean_squared_error: 0.0016 - lr: 5.0000e-39\n",
      "Epoch 40/50\n",
      "29/32 [==========================>...] - ETA: 0s - loss: 0.0046 - mean_squared_error: 0.0046\n",
      "Epoch 40: ReduceLROnPlateau reducing learning rate to 5.000001076526667e-41.\n",
      "32/32 [==============================] - 0s 16ms/step - loss: 0.0046 - mean_squared_error: 0.0046 - val_loss: 0.0016 - val_mean_squared_error: 0.0016 - lr: 5.0000e-40\n",
      "Epoch 41/50\n",
      "29/32 [==========================>...] - ETA: 0s - loss: 0.0046 - mean_squared_error: 0.0046\n",
      "Epoch 41: ReduceLROnPlateau reducing learning rate to 4.99997305055738e-42.\n",
      "32/32 [==============================] - 0s 14ms/step - loss: 0.0045 - mean_squared_error: 0.0045 - val_loss: 0.0016 - val_mean_squared_error: 0.0016 - lr: 5.0000e-41\n",
      "Epoch 42/50\n",
      "29/32 [==========================>...] - ETA: 0s - loss: 0.0046 - mean_squared_error: 0.0046\n",
      "Epoch 42: ReduceLROnPlateau reducing learning rate to 4.9998329207109475e-43.\n",
      "32/32 [==============================] - 0s 14ms/step - loss: 0.0046 - mean_squared_error: 0.0046 - val_loss: 0.0016 - val_mean_squared_error: 0.0016 - lr: 4.9998e-42\n",
      "Epoch 43/50\n",
      "29/32 [==========================>...] - ETA: 0s - loss: 0.0048 - mean_squared_error: 0.0048\n",
      "Epoch 43: ReduceLROnPlateau reducing learning rate to 5.002635517639597e-44.\n",
      "32/32 [==============================] - 0s 14ms/step - loss: 0.0048 - mean_squared_error: 0.0048 - val_loss: 0.0016 - val_mean_squared_error: 0.0016 - lr: 5.0026e-43\n",
      "Epoch 44/50\n",
      "28/32 [=========================>....] - ETA: 0s - loss: 0.0048 - mean_squared_error: 0.0048\n",
      "Epoch 44: ReduceLROnPlateau reducing learning rate to 5.0446744715693416e-45.\n",
      "32/32 [==============================] - 0s 14ms/step - loss: 0.0048 - mean_squared_error: 0.0048 - val_loss: 0.0016 - val_mean_squared_error: 0.0016 - lr: 5.0447e-44\n",
      "Epoch 45/50\n",
      "29/32 [==========================>...] - ETA: 0s - loss: 0.0043 - mean_squared_error: 0.0043\n",
      "Epoch 45: ReduceLROnPlateau reducing learning rate to 5.6051938572992686e-46.\n",
      "32/32 [==============================] - 0s 14ms/step - loss: 0.0043 - mean_squared_error: 0.0043 - val_loss: 0.0016 - val_mean_squared_error: 0.0016 - lr: 5.6052e-45\n",
      "Epoch 46/50\n",
      "32/32 [==============================] - 0s 14ms/step - loss: 0.0046 - mean_squared_error: 0.0046 - val_loss: 0.0016 - val_mean_squared_error: 0.0016 - lr: 0.0000e+00\n",
      "Epoch 47/50\n",
      "32/32 [==============================] - 0s 15ms/step - loss: 0.0049 - mean_squared_error: 0.0049 - val_loss: 0.0016 - val_mean_squared_error: 0.0016 - lr: 0.0000e+00\n",
      "Epoch 48/50\n",
      "32/32 [==============================] - 1s 16ms/step - loss: 0.0044 - mean_squared_error: 0.0044 - val_loss: 0.0016 - val_mean_squared_error: 0.0016 - lr: 0.0000e+00\n",
      "Epoch 49/50\n",
      "32/32 [==============================] - 0s 13ms/step - loss: 0.0045 - mean_squared_error: 0.0045 - val_loss: 0.0016 - val_mean_squared_error: 0.0016 - lr: 0.0000e+00\n",
      "Epoch 50/50\n",
      "32/32 [==============================] - 0s 14ms/step - loss: 0.0050 - mean_squared_error: 0.0050 - val_loss: 0.0016 - val_mean_squared_error: 0.0016 - lr: 0.0000e+00\n"
     ]
    }
   ],
   "source": [
    "history = model.fit(trainX , trainY , epochs = 50 , callbacks = [checkpoint , lr_reduce] , validation_data = (testX , testY))"
   ]
  },
  {
   "cell_type": "code",
   "execution_count": 36,
   "id": "2e88b949",
   "metadata": {},
   "outputs": [
    {
     "name": "stdout",
     "output_type": "stream",
     "text": [
      "8/8 [==============================] - 1s 8ms/step\n"
     ]
    },
    {
     "data": {
      "text/plain": [
       "array([[0.3462556 ],\n",
       "       [0.35292917],\n",
       "       [0.36058986],\n",
       "       [0.36831364],\n",
       "       [0.36802915],\n",
       "       [0.37196484],\n",
       "       [0.37419468],\n",
       "       [0.37611252],\n",
       "       [0.37399736],\n",
       "       [0.37638757]], dtype=float32)"
      ]
     },
     "execution_count": 36,
     "metadata": {},
     "output_type": "execute_result"
    }
   ],
   "source": [
    "test_pred = model.predict(testX)\n",
    "test_pred[:10]"
   ]
  },
  {
   "cell_type": "code",
   "execution_count": 37,
   "id": "eda46a4e",
   "metadata": {},
   "outputs": [
    {
     "data": {
      "text/plain": [
       "array([[228.18398],\n",
       "       [229.65617],\n",
       "       [231.34613],\n",
       "       [233.04997],\n",
       "       [232.98723],\n",
       "       [233.85545],\n",
       "       [234.34735],\n",
       "       [234.77042],\n",
       "       [234.30382],\n",
       "       [234.83109]], dtype=float32)"
      ]
     },
     "execution_count": 37,
     "metadata": {},
     "output_type": "execute_result"
    }
   ],
   "source": [
    "test_pred = mms.inverse_transform(test_pred)\n",
    "test_pred[:10]"
   ]
  },
  {
   "cell_type": "code",
   "execution_count": 38,
   "id": "9253c139",
   "metadata": {},
   "outputs": [
    {
     "data": {
      "text/plain": [
       "array([0.33544878, 0.3463282 , 0.34950136, 0.3467815 , 0.35290118,\n",
       "       0.34700816, 0.35652765, 0.33862194, 0.35856754, 0.34224841])"
      ]
     },
     "execution_count": 38,
     "metadata": {},
     "output_type": "execute_result"
    }
   ],
   "source": [
    "testY[:10]"
   ]
  },
  {
   "cell_type": "code",
   "execution_count": 39,
   "id": "efb36d11",
   "metadata": {},
   "outputs": [
    {
     "data": {
      "text/plain": [
       "array([[0.33544878],\n",
       "       [0.3463282 ],\n",
       "       [0.34950136],\n",
       "       [0.3467815 ],\n",
       "       [0.35290118],\n",
       "       [0.34700816],\n",
       "       [0.35652765],\n",
       "       [0.33862194],\n",
       "       [0.35856754],\n",
       "       [0.34224841]])"
      ]
     },
     "execution_count": 39,
     "metadata": {},
     "output_type": "execute_result"
    }
   ],
   "source": [
    "testY = testY.reshape(testY.shape[0] , 1)\n",
    "testY[:10]"
   ]
  },
  {
   "cell_type": "code",
   "execution_count": 40,
   "id": "0ef6699a",
   "metadata": {},
   "outputs": [
    {
     "data": {
      "text/plain": [
       "array([[225.8 ],\n",
       "       [228.2 ],\n",
       "       [228.9 ],\n",
       "       [228.3 ],\n",
       "       [229.65],\n",
       "       [228.35],\n",
       "       [230.45],\n",
       "       [226.5 ],\n",
       "       [230.9 ],\n",
       "       [227.3 ]])"
      ]
     },
     "execution_count": 40,
     "metadata": {},
     "output_type": "execute_result"
    }
   ],
   "source": [
    "testY = mms.inverse_transform(testY)\n",
    "testY[:10]"
   ]
  },
  {
   "cell_type": "code",
   "execution_count": 46,
   "id": "99ccd9db",
   "metadata": {},
   "outputs": [
    {
     "data": {
      "text/plain": [
       "0.8849616789532138"
      ]
     },
     "execution_count": 46,
     "metadata": {},
     "output_type": "execute_result"
    }
   ],
   "source": [
    "from sklearn.metrics import r2_score\n",
    "score = r2_score(testY , test_pred)\n",
    "score"
   ]
  },
  {
   "cell_type": "code",
   "execution_count": 42,
   "id": "416e5388",
   "metadata": {},
   "outputs": [
    {
     "data": {
      "image/png": "[encoded data removed]",
      "text/plain": [
       "<Figure size 640x480 with 1 Axes>"
      ]
     },
     "metadata": {},
     "output_type": "display_data"
    }
   ],
   "source": [
    "plt.plot(testY , 'b')\n",
    "plt.plot(test_pred , 'r')\n",
    "plt.xlabel('Time')\n",
    "plt.ylabel('Price')\n",
    "plt.grid(True)\n",
    "plt.show()"
   ]
  }
 ],
 "metadata": {
  "kernelspec": {
   "display_name": "Python 3 (ipykernel)",
   "language": "python",
   "name": "python3"
  },
  "language_info": {
   "codemirror_mode": {
    "name": "ipython",
    "version": 3
   },
   "file_extension": ".py",
   "mimetype": "text/x-python",
   "name": "python",
   "nbconvert_exporter": "python",
   "pygments_lexer": "ipython3",
   "version": "3.11.4"
  }
 },
 "nbformat": 4,
 "nbformat_minor": 5
}
